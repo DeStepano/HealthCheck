{
  "cells": [
    {
      "cell_type": "code",
      "execution_count": null,
      "metadata": {
        "id": "hSdjd96bN2z4"
      },
      "outputs": [],
      "source": [
        "import psutil\n",
        "import os\n",
        "import cv2\n",
        "import numpy as np\n",
        "import pandas as pd\n",
        "import seaborn as sns\n",
        "import tensorflow as tf\n",
        "import matplotlib.pyplot as plt\n",
        "from PIL import Image\n",
        "from warnings import filterwarnings\n",
        "from sklearn.utils import shuffle\n",
        "from sklearn.metrics import classification_report\n",
        "from sklearn.model_selection import train_test_split\n",
        "from tensorflow.keras.callbacks import ReduceLROnPlateau, TensorBoard, ModelCheckpoint"
      ]
    },
    {
      "cell_type": "code",
      "execution_count": 15,
      "metadata": {
        "colab": {
          "base_uri": "https://localhost:8080/"
        },
        "id": "fmQr9KM2ITDD",
        "outputId": "83921250-1614-4d67-ee4a-79abb5ffad5c"
      },
      "outputs": [
        {
          "name": "stdout",
          "output_type": "stream",
          "text": [
            "ОЗУ: svmem(total=13609451520, available=11697299456, percent=14.1, used=1604628480, free=8518643712, active=1138106368, inactive=3685941248, buffers=348884992, cached=3137294336, shared=1736704, slab=156753920)\n",
            "СPU: 73.7\n"
          ]
        }
      ],
      "source": [
        "memory_info = psutil.virtual_memory()\n",
        "cpu_percent = psutil.cpu_percent(interval=1)\n",
        "\n",
        "print(\"ОЗУ:\", memory_info)\n",
        "print(\"СPU:\", cpu_percent)\n"
      ]
    },
    {
      "cell_type": "code",
      "execution_count": 4,
      "metadata": {
        "id": "d593rev1IOjU"
      },
      "outputs": [],
      "source": [
        "model = tf.keras.models.load_model(\"drive/MyDrive/x-ray/x_ray_effnet_b1.h5\")"
      ]
    },
    {
      "cell_type": "code",
      "execution_count": 5,
      "metadata": {
        "colab": {
          "base_uri": "https://localhost:8080/"
        },
        "id": "t1jbdoprIwP3",
        "outputId": "d8fd1056-8427-45be-c7d9-457352318855"
      },
      "outputs": [
        {
          "name": "stdout",
          "output_type": "stream",
          "text": [
            "Информация об использовании памяти: svmem(total=13609451520, available=11940769792, percent=12.3, used=1359462400, free=7720853504, active=784551936, inactive=4838100992, buffers=345100288, cached=4184035328, shared=1372160, slab=160567296)\n",
            "Процент использования CPU: 4.0\n"
          ]
        }
      ],
      "source": [
        "memory_info = psutil.virtual_memory()\n",
        "cpu_percent = psutil.cpu_percent(interval=1)\n",
        "\n",
        "print(\"ОЗУ:\", memory_info)\n",
        "print(\"СPU:\", cpu_percent)"
      ]
    },
    {
      "cell_type": "code",
      "execution_count": 6,
      "metadata": {
        "colab": {
          "base_uri": "https://localhost:8080/"
        },
        "id": "xyNrO9lpIk74",
        "outputId": "e797dfa0-ff74-42cd-84ef-21378ffba462"
      },
      "outputs": [
        {
          "name": "stdout",
          "output_type": "stream",
          "text": [
            "1/1 [==============================] - 2s 2s/step\n"
          ]
        }
      ],
      "source": [
        "predict_in = []\n",
        "image_size = 128\n",
        "\n",
        "img = cv2.imread(os.path.join(\"drive/MyDrive/x-ray/bad\",\"1.jpg\"))\n",
        "img = cv2.resize(img,(image_size, image_size))\n",
        "predict_in.append(img)\n",
        "predict_in = np.array(predict_in)\n",
        "\n",
        "prediction = model.predict(predict_in)\n"
      ]
    },
    {
      "cell_type": "code",
      "execution_count": 7,
      "metadata": {
        "colab": {
          "base_uri": "https://localhost:8080/"
        },
        "id": "CMCKMw4BInR5",
        "outputId": "e6d02fd0-6791-44f4-a970-c6d3190b2bb2"
      },
      "outputs": [
        {
          "name": "stdout",
          "output_type": "stream",
          "text": [
            "Информация об использовании памяти: svmem(total=13609451520, available=11863060480, percent=12.8, used=1436647424, free=7556251648, active=787591168, inactive=4997730304, buffers=345628672, cached=4270923776, shared=1376256, slab=162238464)\n",
            "Процент использования CPU: 3.0\n"
          ]
        }
      ],
      "source": [
        "memory_info = psutil.virtual_memory()\n",
        "cpu_percent = psutil.cpu_percent(interval=1)\n",
        "\n",
        "print(\"ОЗУ:\", memory_info)\n",
        "print(\"СPU:\", cpu_percent)"
      ]
    },
    {
      "cell_type": "code",
      "execution_count": 8,
      "metadata": {
        "colab": {
          "base_uri": "https://localhost:8080/"
        },
        "id": "Oo6KPw3fJD80",
        "outputId": "a40957a8-5b5e-4a6f-b30a-e84c67ae22f5"
      },
      "outputs": [
        {
          "data": {
            "text/plain": [
              "array([[0.9999895]], dtype=float32)"
            ]
          },
          "execution_count": 8,
          "metadata": {},
          "output_type": "execute_result"
        }
      ],
      "source": [
        "prediction"
      ]
    }
  ],
  "metadata": {
    "colab": {
      "provenance": []
    },
    "kaggle": {
      "accelerator": "none",
      "dataSources": [
        {
          "datasetId": 4711188,
          "sourceId": 8000436,
          "sourceType": "datasetVersion"
        }
      ],
      "dockerImageVersionId": 30673,
      "isGpuEnabled": false,
      "isInternetEnabled": false,
      "language": "python",
      "sourceType": "notebook"
    },
    "kernelspec": {
      "display_name": "Python 3",
      "language": "python",
      "name": "python3"
    },
    "language_info": {
      "codemirror_mode": {
        "name": "ipython",
        "version": 3
      },
      "file_extension": ".py",
      "mimetype": "text/x-python",
      "name": "python",
      "nbconvert_exporter": "python",
      "pygments_lexer": "ipython3",
      "version": "3.10.13"
    }
  },
  "nbformat": 4,
  "nbformat_minor": 0
}
