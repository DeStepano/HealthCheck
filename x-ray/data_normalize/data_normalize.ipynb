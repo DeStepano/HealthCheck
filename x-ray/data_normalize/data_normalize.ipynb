{
 "cells": [
  {
   "cell_type": "code",
   "execution_count": 1,
   "metadata": {},
   "outputs": [],
   "source": [
    "import os\n",
    "from PIL import Image\n",
    "from matplotlib import pyplot as plt"
   ]
  },
  {
   "cell_type": "code",
   "execution_count": 13,
   "metadata": {},
   "outputs": [],
   "source": [
    "def crop_center(pil_img, crop_width, crop_height):\n",
    "    img_width, img_height = pil_img.size\n",
    "    return pil_img.crop(((img_width - crop_width) // 2,\n",
    "                         (img_height - crop_height) // 2,\n",
    "                         (img_width + crop_width) // 2,\n",
    "                         (img_height + crop_height) // 2))\n",
    "\n",
    "def crop_max_square(pil_img):\n",
    "    return crop_center(pil_img, max(pil_img.size), max(pil_img.size))\n",
    "\n",
    "def store_raw_images(in_dir, out_dir):\n",
    "    name_files = next(os.walk(in_dir))[2]\n",
    "    for i, f in zip(range(len(name_files)), name_files):\n",
    "        # img = cv2.imread(in_dir + '/' + f) #cv2.IMREAD_GRAYSCALE\n",
    "        try:\n",
    "            img = Image.open(in_dir + '/' + f)\n",
    "            if img == None:\n",
    "                os.remove(in_dir + '/' + f)\n",
    "        \n",
    "            img = crop_max_square(img)\n",
    "            img = img.resize((1000, 1000))\n",
    "            try:\n",
    "                img.save(out_dir + '/' + str(i) + \".jpg\")\n",
    "            except OSError:\n",
    "                os.remove(in_dir + '/' + f)\n",
    "        except:\n",
    "            pass\n",
    "\n",
    "store_raw_images('/Users/stepandemanov/Downloads/chest_xray/chest_xray/train/PNEUMONIA', '/Users/stepandemanov/Downloads/chest_xray/chest_xray/data_norm/bad')"
   ]
  }
 ],
 "metadata": {
  "kernelspec": {
   "display_name": "Python 3.9 (tensorflow)",
   "language": "python",
   "name": "tensorflow"
  },
  "language_info": {
   "codemirror_mode": {
    "name": "ipython",
    "version": 3
   },
   "file_extension": ".py",
   "mimetype": "text/x-python",
   "name": "python",
   "nbconvert_exporter": "python",
   "pygments_lexer": "ipython3",
   "version": "3.9.7"
  }
 },
 "nbformat": 4,
 "nbformat_minor": 2
}
